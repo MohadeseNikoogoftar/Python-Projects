{
 "cells": [
  {
   "cell_type": "code",
   "execution_count": 31,
   "metadata": {},
   "outputs": [],
   "source": [
    "import json\n",
    "\n",
    "class ContactManager:\n",
    "    def __init__(self, path=\"-\"):\n",
    "        self.contact_list = []\n",
    "        \n",
    "        if path != \"-\":\n",
    "            print(\"Loading previous contacts...\")\n",
    "            with open(path, \"r\") as f:\n",
    "                data = f.read()\n",
    "                self.contact_list = json.loads(data)\n",
    "            print(\"Loaded...\") \n",
    "        \n",
    "    def add(self, name, number):\n",
    "        self.contact_list.append({\n",
    "            \"name\" : name,\n",
    "            \"number\" : number\n",
    "        })\n",
    "    \n",
    "    def search(self, name):\n",
    "        result = []\n",
    "        for item in self.contact_list:\n",
    "            if name .lower() in item[\"name\"].lower():\n",
    "                result.append(item)\n",
    "        print(result)\n",
    "    \n",
    "    \n",
    "    def backup(self):\n",
    "        with open(\"./contact_list.json\", \"w\") as f:\n",
    "            f.write(json.dumps(self.contact_list))\n",
    "    \n",
    "    def print(self):\n",
    "        print(f\"your contacts are: {self.contact_list}\")"
   ]
  },
  {
   "cell_type": "code",
   "execution_count": 32,
   "metadata": {},
   "outputs": [
    {
     "name": "stdout",
     "output_type": "stream",
     "text": [
      "Loading previous contacts...\n",
      "Loaded...\n",
      "your contacts are: [{'name': 'Ali', 'number': '2146735132'}, {'name': 'Maryam', 'number': '5656546'}, {'name': 'Maryam', 'number': '5656546'}, {'name': 'Ali', 'number': '2146735132'}, {'name': 'Maryam', 'number': '5656546'}]\n"
     ]
    }
   ],
   "source": [
    "my_contacts = ContactManager(path=\"./contact_list.json\")\n",
    "my_contacts.print()"
   ]
  },
  {
   "cell_type": "code",
   "execution_count": 33,
   "metadata": {},
   "outputs": [
    {
     "name": "stdout",
     "output_type": "stream",
     "text": [
      "your contacts are: [{'name': 'Ali', 'number': '2146735132'}, {'name': 'Maryam', 'number': '5656546'}, {'name': 'Maryam', 'number': '5656546'}, {'name': 'Ali', 'number': '2146735132'}, {'name': 'Maryam', 'number': '5656546'}, {'name': 'Ali', 'number': '2146735132'}]\n"
     ]
    }
   ],
   "source": [
    "my_contacts.add(\"Ali\", \"2146735132\")\n",
    "\n",
    "my_contacts.print()"
   ]
  },
  {
   "cell_type": "code",
   "execution_count": 34,
   "metadata": {},
   "outputs": [
    {
     "name": "stdout",
     "output_type": "stream",
     "text": [
      "[{'name': 'Ali', 'number': '2146735132'}, {'name': 'Maryam', 'number': '5656546'}, {'name': 'Maryam', 'number': '5656546'}, {'name': 'Ali', 'number': '2146735132'}, {'name': 'Maryam', 'number': '5656546'}, {'name': 'Ali', 'number': '2146735132'}]\n"
     ]
    }
   ],
   "source": [
    "my_contacts.search(\"a\")"
   ]
  },
  {
   "cell_type": "code",
   "execution_count": 35,
   "metadata": {},
   "outputs": [],
   "source": [
    "my_contacts.backup()"
   ]
  },
  {
   "cell_type": "code",
   "execution_count": 36,
   "metadata": {},
   "outputs": [],
   "source": [
    "my_contacts.add(\"Maryam\", \"5656546\")"
   ]
  },
  {
   "cell_type": "code",
   "execution_count": null,
   "metadata": {},
   "outputs": [],
   "source": []
  },
  {
   "cell_type": "code",
   "execution_count": null,
   "metadata": {},
   "outputs": [],
   "source": []
  }
 ],
 "metadata": {
  "kernelspec": {
   "display_name": "Python 3",
   "language": "python",
   "name": "python3"
  },
  "language_info": {
   "codemirror_mode": {
    "name": "ipython",
    "version": 3
   },
   "file_extension": ".py",
   "mimetype": "text/x-python",
   "name": "python",
   "nbconvert_exporter": "python",
   "pygments_lexer": "ipython3",
   "version": "3.10.11"
  }
 },
 "nbformat": 4,
 "nbformat_minor": 2
}
